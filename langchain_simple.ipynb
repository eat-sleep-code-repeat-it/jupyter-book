{
 "cells": [
  {
   "cell_type": "markdown",
   "metadata": {},
   "source": [
    "# Langchain with openai"
   ]
  },
  {
   "cell_type": "code",
   "execution_count": null,
   "metadata": {},
   "outputs": [
    {
     "name": "stdout",
     "output_type": "stream",
     "text": [
      "LangChain version: 0.3.26\n"
     ]
    }
   ],
   "source": [
    "import os\n",
    "import httpx\n",
    "import urllib3\n",
    "\n",
    "import langchain\n",
    "print(f\"LangChain version: {langchain.__version__}\")\n",
    " \n"
   ]
  },
  {
   "cell_type": "code",
   "execution_count": 8,
   "metadata": {},
   "outputs": [
    {
     "name": "stdout",
     "output_type": "stream",
     "text": [
      ".env file loaded successfully.\n"
     ]
    }
   ],
   "source": [
    "from dotenv import load_dotenv\n",
    "from langchain_openai import ChatOpenAI as LangchainChatOpenAI\n",
    "\n",
    "urllib3.disable_warnings(urllib3.exceptions.InsecureRequestWarning)\n",
    "\n",
    "def create_client_with_ssl_config():\n",
    "    return httpx.Client(verify=False)\n",
    "\n",
    "load_dotenv()\n",
    "if not os.path.exists(\".env\"):\n",
    "    raise FileNotFoundError(\"No .env file found. Please create one with your environment variables.\")\n",
    "else:\n",
    "    print(\".env file loaded successfully.\")"
   ]
  },
  {
   "cell_type": "code",
   "execution_count": null,
   "metadata": {},
   "outputs": [],
   "source": [
    "client = create_client_with_ssl_config()\n",
    "\n",
    "model = LangchainChatOpenAI(\n",
    "    model_name=\"gpt-3.5-turbo\",\n",
    "    http_client=client,\n",
    "    temperature=0.7,\n",
    ")\n",
    "\n",
    "result = model.invoke(\"Hello, my name is\") \n",
    "#print(f\"Langchain Result: {result}\")"
   ]
  },
  {
   "cell_type": "code",
   "execution_count": 11,
   "metadata": {},
   "outputs": [
    {
     "data": {
      "text/plain": [
       "'ChatGPT! How can I assist you today?'"
      ]
     },
     "execution_count": 11,
     "metadata": {},
     "output_type": "execute_result"
    }
   ],
   "source": [
    "result.content"
   ]
  }
 ],
 "metadata": {
  "kernelspec": {
   "display_name": "jupyter-book",
   "language": "python",
   "name": "python3"
  },
  "language_info": {
   "codemirror_mode": {
    "name": "ipython",
    "version": 3
   },
   "file_extension": ".py",
   "mimetype": "text/x-python",
   "name": "python",
   "nbconvert_exporter": "python",
   "pygments_lexer": "ipython3",
   "version": "3.12.11"
  }
 },
 "nbformat": 4,
 "nbformat_minor": 2
}
